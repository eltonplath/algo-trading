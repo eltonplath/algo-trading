{
 "cells": [
  {
   "cell_type": "markdown",
   "id": "c61bfb3c-4c40-440a-bf82-3ca94d56eddb",
   "metadata": {},
   "source": [
    "# Scratchpad\n",
    "\n",
    "## IB Connect\n",
    "https://interactivebrokers.github.io/tws-api/historical_bars.html#hd_what_to_show\n",
    "\n",
    "## Python for Algorithmic Trading\n",
    "https://oreil.ly/py4at\n",
    "\n",
    "\n",
    "## References:\n",
    " - https://algotrading101.com/learn/interactive-brokers-python-api-native-guide/\n",
    " \n",
    " \n",
    " "
   ]
  },
  {
   "cell_type": "code",
   "execution_count": 72,
   "id": "1ca49ea2-7322-402e-b066-6cd6b2155874",
   "metadata": {},
   "outputs": [
    {
     "name": "stderr",
     "output_type": "stream",
     "text": [
      "ERROR -1 2104 Market data farm connection is OK:hfarm\n",
      "ERROR -1 2104 Market data farm connection is OK:cafarm\n",
      "ERROR -1 2104 Market data farm connection is OK:eufarmnj\n",
      "ERROR -1 2104 Market data farm connection is OK:cashfarm\n",
      "ERROR -1 2104 Market data farm connection is OK:uscrypto\n",
      "ERROR -1 2104 Market data farm connection is OK:usfuture\n",
      "ERROR -1 2104 Market data farm connection is OK:afarm\n",
      "ERROR -1 2104 Market data farm connection is OK:jfarm\n",
      "ERROR -1 2104 Market data farm connection is OK:usfarm.nj\n",
      "ERROR -1 2104 Market data farm connection is OK:eufarm\n",
      "ERROR -1 2104 Market data farm connection is OK:usfarm\n",
      "ERROR -1 2106 HMDS data farm connection is OK:euhmds\n",
      "ERROR -1 2106 HMDS data farm connection is OK:ushmds.nj\n",
      "ERROR -1 2106 HMDS data farm connection is OK:cashhmds\n",
      "ERROR -1 2106 HMDS data farm connection is OK:ushmds\n",
      "ERROR -1 2158 Sec-def data farm connection is OK:secdefeu\n"
     ]
    }
   ],
   "source": [
    "from ibapi.client import EClient\n",
    "from ibapi.wrapper import EWrapper  \n",
    "from ibapi.contract import Contract\n",
    "\n",
    "import threading\n",
    "import time\n",
    "\n",
    "class IBapi(EWrapper, EClient):\n",
    "    def __init__(self):\n",
    "        EClient.__init__(self, self)\n",
    "        self.data = []\n",
    "\n",
    "    def tickPrice(self, reqId, tickType, price, attrib):\n",
    "        if tickType == 2 and reqId == 1:\n",
    "            print(tickType, ': The current ask price is: ', price)\n",
    "    \n",
    "    def historicalData(self, reqId, bar):\n",
    "        #print(f'Time: {bar.date} Close: {bar.close}')\n",
    "        self.data.append([bar.date, bar.open, bar.high, bar.low, bar.close])\n",
    "        \n",
    "def run_loop():\n",
    "    app.run()\n",
    "\n",
    "app = IBapi()\n",
    "app.connect('host.docker.internal', 7496, 2)\n",
    "\n",
    "api_thread = threading.Thread(target=run_loop, daemon=True)\n",
    "api_thread.start()\n",
    "time.sleep(0.5)\n",
    "\n"
   ]
  },
  {
   "cell_type": "code",
   "execution_count": 73,
   "id": "455c3d6a-6126-4698-8a00-0e318c257bf6",
   "metadata": {},
   "outputs": [],
   "source": [
    "app.data = []\n",
    "\n",
    "eurusd_contract = Contract()\n",
    "eurusd_contract.symbol = 'EUR'\n",
    "eurusd_contract.secType = 'CASH'\n",
    "eurusd_contract.exchange = 'IDEALPRO'\n",
    "eurusd_contract.currency = 'USD'\n",
    "\n",
    "#Request historical candles\n",
    "app.reqHistoricalData(1, eurusd_contract, '', '2 D', '1 hour', 'BID', 0, 2, False, [])"
   ]
  },
  {
   "cell_type": "code",
   "execution_count": 97,
   "id": "b0014d35-db8a-4c50-a504-9c681f437f01",
   "metadata": {},
   "outputs": [],
   "source": [
    "app.data = []\n",
    "\n",
    "eurzar_contract = Contract()\n",
    "eurzar_contract.symbol = 'EUR'\n",
    "eurzar_contract.secType = 'CASH'\n",
    "eurzar_contract.exchange = 'IDEALPRO'\n",
    "eurzar_contract.currency = 'ZAR'\n",
    "\n",
    "#Request historical candles\n",
    "app.reqHistoricalData(1, eurzar_contract, '', '4 W', '4 hours', 'BID', 0, 2, False, [])\n"
   ]
  },
  {
   "cell_type": "code",
   "execution_count": null,
   "id": "19fbf93c-7f40-407d-b559-5fd778375583",
   "metadata": {
    "jupyter": {
     "source_hidden": true
    },
    "tags": []
   },
   "outputs": [],
   "source": []
  },
  {
   "cell_type": "code",
   "execution_count": 98,
   "id": "55fff2ad-6ee5-4777-9b3a-ff3c0a0cda16",
   "metadata": {},
   "outputs": [
    {
     "name": "stdout",
     "output_type": "stream",
     "text": [
      "<class 'pandas.core.frame.DataFrame'>\n",
      "DatetimeIndex: 139 entries, 2023-03-26 21:15:00 to 2023-04-21 20:00:00\n",
      "Data columns (total 3 columns):\n",
      " #   Column  Non-Null Count  Dtype  \n",
      "---  ------  --------------  -----  \n",
      " 0   price   139 non-null    float64\n",
      " 1   10SMA   130 non-null    float64\n",
      " 2   30SMA   110 non-null    float64\n",
      "dtypes: float64(3)\n",
      "memory usage: 4.3 KB\n"
     ]
    },
    {
     "data": {
      "text/html": [
       "<div>\n",
       "<style scoped>\n",
       "    .dataframe tbody tr th:only-of-type {\n",
       "        vertical-align: middle;\n",
       "    }\n",
       "\n",
       "    .dataframe tbody tr th {\n",
       "        vertical-align: top;\n",
       "    }\n",
       "\n",
       "    .dataframe thead th {\n",
       "        text-align: right;\n",
       "    }\n",
       "</style>\n",
       "<table border=\"1\" class=\"dataframe\">\n",
       "  <thead>\n",
       "    <tr style=\"text-align: right;\">\n",
       "      <th></th>\n",
       "      <th>price</th>\n",
       "      <th>10SMA</th>\n",
       "      <th>30SMA</th>\n",
       "    </tr>\n",
       "    <tr>\n",
       "      <th>date</th>\n",
       "      <th></th>\n",
       "      <th></th>\n",
       "      <th></th>\n",
       "    </tr>\n",
       "  </thead>\n",
       "  <tbody>\n",
       "    <tr>\n",
       "      <th>2023-04-21 04:00:00</th>\n",
       "      <td>19.83030</td>\n",
       "      <td>19.835255</td>\n",
       "      <td>19.907750</td>\n",
       "    </tr>\n",
       "    <tr>\n",
       "      <th>2023-04-21 08:00:00</th>\n",
       "      <td>19.90255</td>\n",
       "      <td>19.835230</td>\n",
       "      <td>19.909733</td>\n",
       "    </tr>\n",
       "    <tr>\n",
       "      <th>2023-04-21 12:00:00</th>\n",
       "      <td>19.84260</td>\n",
       "      <td>19.825490</td>\n",
       "      <td>19.907778</td>\n",
       "    </tr>\n",
       "    <tr>\n",
       "      <th>2023-04-21 16:00:00</th>\n",
       "      <td>19.88360</td>\n",
       "      <td>19.821250</td>\n",
       "      <td>19.907790</td>\n",
       "    </tr>\n",
       "    <tr>\n",
       "      <th>2023-04-21 20:00:00</th>\n",
       "      <td>19.85980</td>\n",
       "      <td>19.820075</td>\n",
       "      <td>19.903762</td>\n",
       "    </tr>\n",
       "  </tbody>\n",
       "</table>\n",
       "</div>"
      ],
      "text/plain": [
       "                        price      10SMA      30SMA\n",
       "date                                               \n",
       "2023-04-21 04:00:00  19.83030  19.835255  19.907750\n",
       "2023-04-21 08:00:00  19.90255  19.835230  19.909733\n",
       "2023-04-21 12:00:00  19.84260  19.825490  19.907778\n",
       "2023-04-21 16:00:00  19.88360  19.821250  19.907790\n",
       "2023-04-21 20:00:00  19.85980  19.820075  19.903762"
      ]
     },
     "execution_count": 98,
     "metadata": {},
     "output_type": "execute_result"
    }
   ],
   "source": [
    "#Working with Pandas DataFrames\n",
    "import pandas as pd\n",
    "import numpy as np\n",
    "\n",
    "df = pd.DataFrame(app.data, columns=['DateTime','Open', 'High', 'Low', 'Close'])\n",
    "\n",
    "df.drop(['Open', 'High', 'Low'], axis=1, inplace=True)\n",
    "df.rename(columns={'Close':'price'}, inplace=True)\n",
    "df.rename(columns={'DateTime':'date'}, inplace=True)\n",
    "\n",
    "\n",
    "#df = pd.DataFrame(app.data, columns=['DateTime','Close'])\n",
    "df['10SMA'] = df['price'].rolling(10).mean()\n",
    "df['30SMA'] = df['price'].rolling(30).mean()\n",
    "\n",
    "df['date'] = pd.to_datetime(df['date'],unit='s') \n",
    "df = df.set_index('date')\n",
    "#df.to_csv('EURUSD_Hourly.csv')  \n",
    "df.info()\n",
    "df.tail()"
   ]
  },
  {
   "cell_type": "code",
   "execution_count": null,
   "id": "485cf8a3-0ee4-4e2c-a126-823917d41795",
   "metadata": {},
   "outputs": [],
   "source": []
  },
  {
   "cell_type": "code",
   "execution_count": 9,
   "id": "f1f89663-b7e4-4549-a909-e19d81a95abb",
   "metadata": {},
   "outputs": [],
   "source": [
    "app.disconnect()"
   ]
  }
 ],
 "metadata": {
  "kernelspec": {
   "display_name": "Python 3 (ipykernel)",
   "language": "python",
   "name": "python3"
  },
  "language_info": {
   "codemirror_mode": {
    "name": "ipython",
    "version": 3
   },
   "file_extension": ".py",
   "mimetype": "text/x-python",
   "name": "python",
   "nbconvert_exporter": "python",
   "pygments_lexer": "ipython3",
   "version": "3.10.10"
  }
 },
 "nbformat": 4,
 "nbformat_minor": 5
}
