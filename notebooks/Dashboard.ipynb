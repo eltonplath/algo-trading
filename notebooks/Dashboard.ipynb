{
 "cells": [
  {
   "cell_type": "markdown",
   "id": "c61bfb3c-4c40-440a-bf82-3ca94d56eddb",
   "metadata": {},
   "source": [
    "# H 4 Dashboard\n",
    " \n",
    "Contract info can be found here: https://pennies.interactivebrokers.com/cstools/contract_info/v3.10/index.php "
   ]
  },
  {
   "cell_type": "markdown",
   "id": "fd07947c-669f-4eea-a33e-31a19370d89f",
   "metadata": {},
   "source": [
    "## Setup data for Dashboard\n"
   ]
  },
  {
   "cell_type": "code",
   "execution_count": 222,
   "id": "f2061ff1-4974-4f67-89e0-d8316ee5d4ba",
   "metadata": {},
   "outputs": [],
   "source": [
    "class ContractWrapper:\n",
    "\n",
    "    def __init__(self, reqId, contract):\n",
    "        self.reqId = reqId\n",
    "        self.contract = contract\n",
    "        self.data = list()\n",
    "\n",
    "    def info(self):\n",
    "        return f\"ReqId: {self.reqId} Contract: {self.contract} \"\n",
    "\n",
    "class Contracts:\n",
    "\n",
    "    def __init__(self):\n",
    "        self.contracts = dict()\n",
    "        \n",
    "    def info(self):\n",
    "        return f\"map: {self.contracts} \"\n",
    "\n",
    "    def add(self, contractWrapper: ContractWrapper):\n",
    "        self.contracts[contractWrapper.reqId] = contractWrapper\n",
    "\n",
    "# Initialise Contracts for the Dashboard        \n",
    "eurusd = Contract()\n",
    "eurusd.symbol = 'EUR'\n",
    "eurusd.secType = 'CASH'\n",
    "eurusd.exchange = 'IDEALPRO'\n",
    "eurusd.currency = 'USD'\n",
    "eurusdWrapper = ContractWrapper(1, eurusd)\n",
    "\n",
    "eurzar = Contract()\n",
    "eurzar.symbol = 'EUR'\n",
    "eurzar.secType = 'CASH'\n",
    "eurzar.exchange = 'IDEALPRO'\n",
    "eurzar.currency = 'ZAR'\n",
    "eurzarWrapper = ContractWrapper(2, eurzar)\n",
    "\n",
    "\"\"\"\n",
    "Contract: conId:320227571, \n",
    "\t  symbol:QQQ, \n",
    "\t  secType:STK \n",
    "\t  primExchange:NASDAQ, \n",
    "\t  currency:USD, \n",
    "\t  derivativeSecTypes: CFD, \n",
    "\t  description:INVESCO QQQ TRUST SERIES 1, issuerId:\n",
    "\"\"\"\n",
    "qqq = Contract()\n",
    "qqq.conId = 320227571\n",
    "qqq.symbol = 'QQQ'\n",
    "qqq.secType = 'CFD'\n",
    "qqq.exchange = 'NASDAQ'\n",
    "qqq.currency = 'USD'\n",
    "qqqWrapper = ContractWrapper(3, qqq)\n",
    "\n",
    "es = Contract()\n",
    "es.symbol = 'ES'\n",
    "es.secType = 'FUT'\n",
    "es.exchange = 'CME'\n",
    "es.currency = 'USD'\n",
    "es.lastTradeDateOrContractMonth = '20230616'\n",
    "esWrapper = ContractWrapper(4, es)\n",
    "\n",
    "indx = Contract()\n",
    "indx.symbol = 'INDU'\n",
    "indx.secType = 'IND'\n",
    "indx.exchange = 'CME'\n",
    "indx.currency = 'USD'\n",
    "induWrapper = ContractWrapper(5, indx)\n",
    "\n",
    "ndx = Contract()\n",
    "ndx.symbol = 'NDX'\n",
    "ndx.secType = 'IND'\n",
    "ndx.exchange = 'NASDAQ'\n",
    "ndx.currency = 'USD'\n",
    "idxWrapper = ContractWrapper(6, ndx)\n",
    "\n",
    "\n",
    "c = Contracts()\n",
    "c.add(eurusdWrapper)\n",
    "c.add(eurzarWrapper)\n",
    "c.add(qqqWrapper)\n",
    "c.add(esWrapper)\n",
    "c.add(induWrapper)\n"
   ]
  },
  {
   "cell_type": "markdown",
   "id": "05ec2c5e-5430-4119-88dd-4cd70d48b0ee",
   "metadata": {},
   "source": [
    "## Define a callback for IB Historical data"
   ]
  },
  {
   "cell_type": "code",
   "execution_count": 166,
   "id": "51e94c14-f601-4fe3-828a-f249bea340d9",
   "metadata": {},
   "outputs": [],
   "source": [
    "def collectData(reqId, bar):\n",
    "    c.contracts[reqId].data.append([bar.date, bar.open, bar.high, bar.low, bar.close])"
   ]
  },
  {
   "cell_type": "markdown",
   "id": "99d6317b-bc71-4306-8873-9e6d2f0782d4",
   "metadata": {},
   "source": [
    "## Connect to IB"
   ]
  },
  {
   "cell_type": "code",
   "execution_count": 223,
   "id": "1ca49ea2-7322-402e-b066-6cd6b2155874",
   "metadata": {},
   "outputs": [
    {
     "name": "stderr",
     "output_type": "stream",
     "text": [
      "ERROR -1 2104 Market data farm connection is OK:cashfarm\n",
      "ERROR -1 2104 Market data farm connection is OK:uscrypto\n",
      "ERROR -1 2104 Market data farm connection is OK:usfuture.nj\n",
      "ERROR -1 2104 Market data farm connection is OK:usfuture\n",
      "ERROR -1 2104 Market data farm connection is OK:usfarm.nj\n",
      "ERROR -1 2104 Market data farm connection is OK:eufarm\n",
      "ERROR -1 2104 Market data farm connection is OK:usfarm\n",
      "ERROR -1 2106 HMDS data farm connection is OK:euhmds\n",
      "ERROR -1 2106 HMDS data farm connection is OK:ushmds.nj\n",
      "ERROR -1 2106 HMDS data farm connection is OK:cashhmds\n",
      "ERROR -1 2106 HMDS data farm connection is OK:ushmds\n",
      "ERROR -1 2158 Sec-def data farm connection is OK:secdefeu\n"
     ]
    }
   ],
   "source": [
    "from ibapi.client import EClient\n",
    "from ibapi.wrapper import EWrapper  \n",
    "from ibapi.contract import Contract\n",
    "#from ibapi.contract import ListOfContractDescription\n",
    "\n",
    "import pandas as pd\n",
    "import numpy as np\n",
    "import matplotlib.pyplot as plt\n",
    "#from mplfinance import candlestick_ohlc\n",
    "import mplfinance as mpf\n",
    "import matplotlib.dates as mpl_dates\n",
    "\n",
    "import threading\n",
    "import time\n",
    "\n",
    "class IBapi(EWrapper, EClient):\n",
    "    def __init__(self):\n",
    "        EClient.__init__(self, self)\n",
    "\n",
    "    def tickPrice(self, reqId, tickType, price, attrib):\n",
    "        if tickType == 2 and reqId == 1:\n",
    "            print(tickType, ': The current ask price is: ', price)\n",
    "    \n",
    "    def historicalData(self, reqId, bar):        \n",
    "        collectData(reqId, bar)\n",
    "\n",
    "def run_loop():\n",
    "    ib.run()\n",
    "\n",
    "ib.disconnect()\n",
    "ib = IBapi()\n",
    "ib.connect('host.docker.internal', 7496, 3)\n",
    "\n",
    "api_thread = threading.Thread(target=run_loop, daemon=True)\n",
    "api_thread.start()\n",
    "time.sleep(0.5)\n"
   ]
  },
  {
   "cell_type": "markdown",
   "id": "4757a472-5ff6-4af1-8597-83a83ea5bf1a",
   "metadata": {},
   "source": [
    "## Request IB historical data"
   ]
  },
  {
   "cell_type": "code",
   "execution_count": 225,
   "id": "455c3d6a-6126-4698-8a00-0e318c257bf6",
   "metadata": {},
   "outputs": [
    {
     "name": "stdout",
     "output_type": "stream",
     "text": [
      "Requesting historical data for 1 - EUR_USD ...\n",
      "Requesting historical data for 2 - EUR_ZAR ...\n",
      "Requesting historical data for 3 - QQQ_USD ...\n",
      "Requesting historical data for 4 - ES_USD ...\n",
      "Requesting historical data for 5 - INDU_USD ...\n"
     ]
    },
    {
     "name": "stderr",
     "output_type": "stream",
     "text": [
      "ERROR 3 200 No security definition has been found for the request\n",
      "ERROR 5 162 Historical Market Data Service error message:HMDS query returned no data: DJI@CME Bid\n"
     ]
    }
   ],
   "source": [
    "timeSpan = '4 D'\n",
    "candleSize = '4 hours'\n",
    "for k,v in c.contracts.items():\n",
    "    print(f\"Requesting historical data for {k} - {v.contract.symbol}_{v.contract.currency} ...\")\n",
    "    ib.reqHistoricalData(k, v.contract, '', timeSpan, candleSize, 'BID', 0, 2, False, [])"
   ]
  },
  {
   "cell_type": "markdown",
   "id": "a008e4a6-abc1-4dac-8bfd-78d78be7e882",
   "metadata": {},
   "source": [
    "## Sanitise Data"
   ]
  },
  {
   "cell_type": "code",
   "execution_count": null,
   "id": "99a49783-500b-4928-a50b-99986d41f8a7",
   "metadata": {},
   "outputs": [],
   "source": [
    "def get_df(data):    \n",
    "    if not data:\n",
    "        return None\n",
    "    df = pd.DataFrame(data, columns=['DateTime','Open', 'High', 'Low', 'Close'])\n",
    "    df['DateTime'] = pd.to_datetime(df['DateTime'],unit='s') \n",
    "    df = df.set_index('DateTime')\n",
    "    df = df.tail(6)\n",
    "    return df"
   ]
  },
  {
   "cell_type": "markdown",
   "id": "a637048e-9494-4972-86cf-5f5047f5a382",
   "metadata": {},
   "source": [
    "## Plot "
   ]
  },
  {
   "cell_type": "code",
   "execution_count": 230,
   "id": "2aef61a9-2afc-4e79-bc2a-23b83d402758",
   "metadata": {},
   "outputs": [
    {
     "name": "stdout",
     "output_type": "stream",
     "text": [
      "1 EUR, data.size: 56\n",
      "2 EUR, data.size: 56\n",
      "3 QQQ, data.size: 0\n",
      "4 ES, data.size: 56\n",
      "5 INDU, data.size: 0\n"
     ]
    },
    {
     "data": {
      "image/png": "[encoded data removed]",
      "text/plain": [
       "<Mpf_Figure size 500x600 with 3 Axes>"
      ]
     },
     "metadata": {},
     "output_type": "display_data"
    },
    {
     "name": "stderr",
     "output_type": "stream",
     "text": [
      "ERROR -1 2103 Market data farm connection is broken:cashfarm\n",
      "ERROR -1 2103 Market data farm connection is broken:cashfarm\n",
      "ERROR -1 2103 Market data farm connection is broken:cashfarm\n",
      "ERROR -1 2103 Market data farm connection is broken:cashfarm\n",
      "ERROR -1 2103 Market data farm connection is broken:cashfarm\n",
      "ERROR -1 2104 Market data farm connection is OK:cashfarm\n",
      "ERROR -1 2103 Market data farm connection is broken:usfuture.nj\n",
      "ERROR -1 2104 Market data farm connection is OK:usfuture.nj\n",
      "ERROR -1 2103 Market data farm connection is broken:usfuture\n",
      "ERROR -1 2104 Market data farm connection is OK:usfuture\n",
      "ERROR -1 2103 Market data farm connection is broken:usfuture.nj\n",
      "ERROR -1 2104 Market data farm connection is OK:usfuture.nj\n",
      "ERROR -1 2103 Market data farm connection is broken:usfuture\n",
      "ERROR -1 2104 Market data farm connection is OK:usfuture\n"
     ]
    }
   ],
   "source": [
    "fig = mpf.figure(figsize=(5,6))\n",
    "\n",
    "for k,v in c.contracts.items():    \n",
    "    print(f\"{k} {v.contract.symbol}, data.size: {len(v.data)}\")\n",
    "    if v.data:\n",
    "        #print(f\"{k} {v.contract.symbol}{v.data}\")\n",
    "        ax1 = fig.add_subplot(3,3,k)\n",
    "        ax1.axes.xaxis.set_visible(False)\n",
    "        ax1.axes.yaxis.set_visible(False)\n",
    "        mpf.plot(get_df(v.data),ax=ax1, type='candle', axtitle=v.contract.symbol+'_'+v.contract.currency)\n"
   ]
  },
  {
   "cell_type": "code",
   "execution_count": 208,
   "id": "b6bab945-13f7-4022-89b1-6324885cf697",
   "metadata": {},
   "outputs": [
    {
     "name": "stdout",
     "output_type": "stream",
     "text": [
      "<class 'mplfinance._mplwraps.Mpf_Figure'>\n"
     ]
    },
    {
     "data": {
      "image/png": "[encoded data removed]",
      "text/plain": [
       "<Mpf_Figure size 500x600 with 5 Axes>"
      ]
     },
     "metadata": {},
     "output_type": "display_data"
    },
    {
     "name": "stderr",
     "output_type": "stream",
     "text": [
      "ERROR -1 2105 HMDS data farm connection is broken:cashhmds\n",
      "ERROR -1 2106 HMDS data farm connection is OK:cashhmds\n",
      "ERROR -1 2103 Market data farm connection is broken:cashfarm\n",
      "ERROR -1 2103 Market data farm connection is broken:cashfarm\n",
      "ERROR -1 2103 Market data farm connection is broken:cashfarm\n",
      "ERROR -1 2103 Market data farm connection is broken:cashfarm\n",
      "ERROR -1 2103 Market data farm connection is broken:cashfarm\n",
      "ERROR -1 2103 Market data farm connection is broken:cashfarm\n",
      "ERROR -1 2104 Market data farm connection is OK:cashfarm\n",
      "ERROR -1 2103 Market data farm connection is broken:usfuture\n",
      "ERROR -1 2104 Market data farm connection is OK:usfuture\n"
     ]
    }
   ],
   "source": [
    "\n",
    "\n",
    "fig = mpf.figure(figsize=(5,6))\n",
    "print(type(fig))\n",
    "\n",
    "#for k,v in c.contracts.items():    \n",
    "ax1 = fig.add_subplot(3,3,1)\n",
    "ax1.axes.xaxis.set_visible(False)\n",
    "ax1.axes.yaxis.set_visible(False)\n",
    "\n",
    "ax2 = fig.add_subplot(3,3,2)\n",
    "ax2.axes.xaxis.set_visible(False)\n",
    "ax2.axes.yaxis.set_visible(False)\n",
    "\n",
    "ax3 = fig.add_subplot(3,3,3)\n",
    "ax3.axes.xaxis.set_visible(False)\n",
    "ax3.axes.yaxis.set_visible(False)\n",
    "\n",
    "ax4 = fig.add_subplot(3,3,4)\n",
    "ax4.axes.xaxis.set_visible(False)\n",
    "ax4.axes.yaxis.set_visible(False)\n",
    "\n",
    "ax5 = fig.add_subplot(3,3,5)\n",
    "ax5.axes.xaxis.set_visible(False)\n",
    "ax5.axes.yaxis.set_visible(False)\n",
    "\n",
    "mpf.plot(get_df(c.contracts[1].data),ax=ax1, type='candle', axtitle=c.contracts[1].contract.symbol+'_'+c.contracts[1].contract.currency)\n",
    "mpf.plot(get_df(c.contracts[2].data),ax=ax2, type='candle', axtitle=c.contracts[2].contract.symbol+'_'+c.contracts[2].contract.currency)\n",
    "if len(c.contracts[3].data) > 0:\n",
    "    mpf.plot(get_df(c.contracts[3].data),ax=ax3, type='candle', axtitle=c.contracts[3].contract.symbol+'_'+c.contracts[3].contract.currency)\n",
    "mpf.plot(get_df(c.contracts[4].data),ax=ax4, type='candle', axtitle=c.contracts[4].contract.symbol+'_'+c.contracts[3].contract.currency)\n",
    "mpf.plot(get_df(c.contracts[4].data),ax=ax5, type='candle', axtitle=c.contracts[4].contract.symbol+'_'+c.contracts[3].contract.currency)\n",
    "\n",
    "#mpf.plot(get_df(tickers[\"EURZAR\"]),ax=ax2, axtitle='EURZAR')\n",
    "#mpf.plot(df,ax=ax3,axtitle='XXX')\n",
    "#mpf.plot(df,ax=ax4,axtitle='X')\n",
    "\n",
    "\n",
    "#mpf.plot(df,ax=ax1)\n",
    "#fig\n"
   ]
  },
  {
   "cell_type": "code",
   "execution_count": null,
   "id": "19fbf93c-7f40-407d-b559-5fd778375583",
   "metadata": {
    "jupyter": {
     "source_hidden": true
    },
    "tags": []
   },
   "outputs": [],
   "source": []
  },
  {
   "cell_type": "code",
   "execution_count": null,
   "id": "485cf8a3-0ee4-4e2c-a126-823917d41795",
   "metadata": {},
   "outputs": [],
   "source": []
  },
  {
   "cell_type": "code",
   "execution_count": 99,
   "id": "f1f89663-b7e4-4549-a909-e19d81a95abb",
   "metadata": {},
   "outputs": [],
   "source": [
    "ib.disconnect()"
   ]
  },
  {
   "cell_type": "code",
   "execution_count": null,
   "id": "22f27cb4-6a04-4d73-ac68-758d8ba7e8d4",
   "metadata": {},
   "outputs": [],
   "source": []
  }
 ],
 "metadata": {
  "kernelspec": {
   "display_name": "Python 3 (ipykernel)",
   "language": "python",
   "name": "python3"
  },
  "language_info": {
   "codemirror_mode": {
    "name": "ipython",
    "version": 3
   },
   "file_extension": ".py",
   "mimetype": "text/x-python",
   "name": "python",
   "nbconvert_exporter": "python",
   "pygments_lexer": "ipython3",
   "version": "3.10.10"
  }
 },
 "nbformat": 4,
 "nbformat_minor": 5
}
