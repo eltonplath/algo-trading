{
 "cells": [
  {
   "cell_type": "markdown",
   "id": "c61bfb3c-4c40-440a-bf82-3ca94d56eddb",
   "metadata": {},
   "source": [
    "# Contract Search\n",
    " \n",
    "Contract info can be found here: https://pennies.interactivebrokers.com/cstools/contract_info/v3.10/index.php "
   ]
  },
  {
   "cell_type": "markdown",
   "id": "99d6317b-bc71-4306-8873-9e6d2f0782d4",
   "metadata": {},
   "source": [
    "## Connect to IB"
   ]
  },
  {
   "cell_type": "code",
   "execution_count": 73,
   "id": "1ca49ea2-7322-402e-b066-6cd6b2155874",
   "metadata": {},
   "outputs": [
    {
     "name": "stderr",
     "output_type": "stream",
     "text": [
      "ERROR -1 2104 Market data farm connection is OK:hfarm\n",
      "ERROR -1 2104 Market data farm connection is OK:cafarm\n",
      "ERROR -1 2104 Market data farm connection is OK:eufarmnj\n",
      "ERROR -1 2104 Market data farm connection is OK:cashfarm\n",
      "ERROR -1 2104 Market data farm connection is OK:uscrypto\n",
      "ERROR -1 2104 Market data farm connection is OK:usfuture.nj\n",
      "ERROR -1 2104 Market data farm connection is OK:usfuture\n",
      "ERROR -1 2104 Market data farm connection is OK:afarm\n",
      "ERROR -1 2104 Market data farm connection is OK:jfarm\n",
      "ERROR -1 2104 Market data farm connection is OK:usfarm.nj\n",
      "ERROR -1 2104 Market data farm connection is OK:eufarm\n",
      "ERROR -1 2104 Market data farm connection is OK:usfarm\n",
      "ERROR -1 2106 HMDS data farm connection is OK:euhmds\n",
      "ERROR -1 2106 HMDS data farm connection is OK:ushmds.nj\n",
      "ERROR -1 2106 HMDS data farm connection is OK:cashhmds\n",
      "ERROR -1 2106 HMDS data farm connection is OK:ushmds\n",
      "ERROR -1 2158 Sec-def data farm connection is OK:secdefeu\n"
     ]
    }
   ],
   "source": [
    "from ibapi.client import EClient\n",
    "from ibapi.wrapper import EWrapper  \n",
    "from ibapi.contract import Contract\n",
    "#from ibapi.contract import ListOfContractDescription\n",
    "\n",
    "import pandas as pd\n",
    "import numpy as np\n",
    "import matplotlib.pyplot as plt\n",
    "#from mplfinance import candlestick_ohlc\n",
    "import mplfinance as mpf\n",
    "import matplotlib.dates as mpl_dates\n",
    "\n",
    "import threading\n",
    "import time\n",
    "\n",
    "class IBapi(EWrapper, EClient):\n",
    "    def __init__(self):\n",
    "        EClient.__init__(self, self)\n",
    "\n",
    "    def symbolSamples(self, reqId: int,\n",
    "                      contractDescriptions):\n",
    "        super().symbolSamples(reqId, contractDescriptions)\n",
    "        print(\"Symbol Samples. Request Id: \", reqId)\n",
    "\n",
    "        for contractDescription in contractDescriptions:\n",
    "            derivSecTypes = \"\"\n",
    "            for derivSecType in contractDescription.derivativeSecTypes:\n",
    "                derivSecTypes += \" \"\n",
    "                derivSecTypes += derivSecType\n",
    "                print(\"Contract: conId:%s, \"\n",
    "                      \"\\n\\t  symbol:%s, \"\n",
    "                      \"\\n\\t  secType:%s \"\n",
    "                      \"\\n\\t  primExchange:%s, \"\n",
    "                      \"\\n\\t  currency:%s, \"\n",
    "                      \"\\n\\t  derivativeSecTypes:%s, \"\n",
    "                      \"\\n\\t  description:%s, issuerId:%s\" % (\n",
    "                    contractDescription.contract.conId,\n",
    "                    contractDescription.contract.symbol,\n",
    "                    contractDescription.contract.secType,\n",
    "                    contractDescription.contract.primaryExchange,\n",
    "                    contractDescription.contract.currency, derivSecTypes,\n",
    "                    contractDescription.contract.description,\n",
    "                    contractDescription.contract.issuerId))\n",
    "                print()\n",
    "\n",
    "def run_loop():\n",
    "    ib.run()\n",
    "\n",
    "ib = IBapi()\n",
    "ib.connect('host.docker.internal', 7496, 6)\n",
    "\n",
    "api_thread = threading.Thread(target=run_loop, daemon=True)\n",
    "api_thread.start()\n",
    "time.sleep(0.5)\n"
   ]
  },
  {
   "cell_type": "markdown",
   "id": "4757a472-5ff6-4af1-8597-83a83ea5bf1a",
   "metadata": {},
   "source": [
    "## Search"
   ]
  },
  {
   "cell_type": "code",
   "execution_count": 74,
   "id": "19fbf93c-7f40-407d-b559-5fd778375583",
   "metadata": {
    "tags": []
   },
   "outputs": [
    {
     "name": "stdout",
     "output_type": "stream",
     "text": [
      "Symbol Samples. Request Id:  218\n",
      "Contract: conId:416843, \n",
      "\t  symbol:NDX, \n",
      "\t  secType:IND \n",
      "\t  primExchange:NASDAQ, \n",
      "\t  currency:USD, \n",
      "\t  derivativeSecTypes: OPT, \n",
      "\t  description:NASDAQ 100 Stock Index, issuerId:\n",
      "\n",
      "Contract: conId:416843, \n",
      "\t  symbol:NDX, \n",
      "\t  secType:IND \n",
      "\t  primExchange:NASDAQ, \n",
      "\t  currency:USD, \n",
      "\t  derivativeSecTypes: OPT IOPT, \n",
      "\t  description:NASDAQ 100 Stock Index, issuerId:\n",
      "\n",
      "Contract: conId:416843, \n",
      "\t  symbol:NDX, \n",
      "\t  secType:IND \n",
      "\t  primExchange:NASDAQ, \n",
      "\t  currency:USD, \n",
      "\t  derivativeSecTypes: OPT IOPT WAR, \n",
      "\t  description:NASDAQ 100 Stock Index, issuerId:\n",
      "\n",
      "Contract: conId:416843, \n",
      "\t  symbol:NDX, \n",
      "\t  secType:IND \n",
      "\t  primExchange:NASDAQ, \n",
      "\t  currency:USD, \n",
      "\t  derivativeSecTypes: OPT IOPT WAR BAG, \n",
      "\t  description:NASDAQ 100 Stock Index, issuerId:\n",
      "\n",
      "Contract: conId:34029401, \n",
      "\t  symbol:NDX1, \n",
      "\t  secType:STK \n",
      "\t  primExchange:IBIS, \n",
      "\t  currency:EUR, \n",
      "\t  derivativeSecTypes: CFD, \n",
      "\t  description:NORDEX SE, issuerId:\n",
      "\n",
      "Contract: conId:34029401, \n",
      "\t  symbol:NDX1, \n",
      "\t  secType:STK \n",
      "\t  primExchange:IBIS, \n",
      "\t  currency:EUR, \n",
      "\t  derivativeSecTypes: CFD OPT, \n",
      "\t  description:NORDEX SE, issuerId:\n",
      "\n",
      "Contract: conId:34029401, \n",
      "\t  symbol:NDX1, \n",
      "\t  secType:STK \n",
      "\t  primExchange:IBIS, \n",
      "\t  currency:EUR, \n",
      "\t  derivativeSecTypes: CFD OPT IOPT, \n",
      "\t  description:NORDEX SE, issuerId:\n",
      "\n",
      "Contract: conId:34029401, \n",
      "\t  symbol:NDX1, \n",
      "\t  secType:STK \n",
      "\t  primExchange:IBIS, \n",
      "\t  currency:EUR, \n",
      "\t  derivativeSecTypes: CFD OPT IOPT WAR, \n",
      "\t  description:NORDEX SE, issuerId:\n",
      "\n",
      "Contract: conId:34029401, \n",
      "\t  symbol:NDX1, \n",
      "\t  secType:STK \n",
      "\t  primExchange:IBIS, \n",
      "\t  currency:EUR, \n",
      "\t  derivativeSecTypes: CFD OPT IOPT WAR BAG, \n",
      "\t  description:NORDEX SE, issuerId:\n",
      "\n",
      "Contract: conId:314449500, \n",
      "\t  symbol:NDXH, \n",
      "\t  secType:STK \n",
      "\t  primExchange:SBF, \n",
      "\t  currency:EUR, \n",
      "\t  derivativeSecTypes: CFD, \n",
      "\t  description:AMUNDI NAS-100 EUR HE, issuerId:\n",
      "\n"
     ]
    }
   ],
   "source": [
    "ib.reqMatchingSymbols(218, \"NDX\")"
   ]
  },
  {
   "cell_type": "code",
   "execution_count": 44,
   "id": "22f27cb4-6a04-4d73-ac68-758d8ba7e8d4",
   "metadata": {},
   "outputs": [],
   "source": [
    "ib.disconnect()"
   ]
  },
  {
   "cell_type": "code",
   "execution_count": null,
   "id": "9778ca4e-5a2f-487e-92f3-ef9357ee61f5",
   "metadata": {},
   "outputs": [],
   "source": []
  }
 ],
 "metadata": {
  "kernelspec": {
   "display_name": "Python 3 (ipykernel)",
   "language": "python",
   "name": "python3"
  },
  "language_info": {
   "codemirror_mode": {
    "name": "ipython",
    "version": 3
   },
   "file_extension": ".py",
   "mimetype": "text/x-python",
   "name": "python",
   "nbconvert_exporter": "python",
   "pygments_lexer": "ipython3",
   "version": "3.10.10"
  }
 },
 "nbformat": 4,
 "nbformat_minor": 5
}
